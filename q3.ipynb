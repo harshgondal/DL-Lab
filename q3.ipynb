{
 "cells": [
  {
   "cell_type": "code",
   "execution_count": 1,
   "metadata": {},
   "outputs": [],
   "source": [
    "import torch\n",
    "from matplotlib import pyplot as plt"
   ]
  },
  {
   "cell_type": "code",
   "execution_count": 11,
   "metadata": {},
   "outputs": [
    {
     "name": "stdout",
     "output_type": "stream",
     "text": [
      "tensor([ 5.,  7., 12., 16., 20.])\n"
     ]
    }
   ],
   "source": [
    "x = torch.tensor([5.0, 7.0, 12.0, 16.0, 20.0])\n",
    "y = torch.tensor([40.0, 120.0, 180.0, 210.0, 240.0])\n",
    "print(x)"
   ]
  },
  {
   "cell_type": "code",
   "execution_count": 5,
   "metadata": {},
   "outputs": [],
   "source": [
    "learning_rate = torch.tensor(0.001)"
   ]
  },
  {
   "cell_type": "code",
   "execution_count": 7,
   "metadata": {},
   "outputs": [],
   "source": [
    "class RegressionModel:\n",
    "    def __init__(self):\n",
    "        self.w=torch.rand([1], requires_grad=True)\n",
    "        self.b=torch.rand([1], requires_grad=True)\n",
    "    def forward(self, x):\n",
    "        return self.w* x+ self.b\n",
    "    def update(self):\n",
    "        self.w-=learning_rate*self.w.grad\n",
    "        self.b-=learning_rate*self.b.grad\n",
    "    def reset_grad(self):\n",
    "        self.w.grad.zero_()\n",
    "        self.b.grad.zero_()\n",
    "    \n",
    "    "
   ]
  },
  {
   "cell_type": "code",
   "execution_count": 9,
   "metadata": {},
   "outputs": [
    {
     "name": "stdout",
     "output_type": "stream",
     "text": [
      "The Parameters are w=tensor([4.7462], requires_grad=True), b-tensor([1.1054], requires_grad=True), and los=28248.04296875\n",
      "The Parameters are w=tensor([7.6044], requires_grad=True), b-tensor([1.3053], requires_grad=True), and los=12168.640625\n",
      "The Parameters are w=tensor([9.4586], requires_grad=True), b-tensor([1.4362], requires_grad=True), and los=5401.1748046875\n",
      "The Parameters are w=tensor([10.6614], requires_grad=True), b-tensor([1.5223], requires_grad=True), and los=2552.89404296875\n",
      "The Parameters are w=tensor([11.4416], requires_grad=True), b-tensor([1.5794], requires_grad=True), and los=1354.1094970703125\n",
      "The Parameters are w=tensor([11.9477], requires_grad=True), b-tensor([1.6176], requires_grad=True), and los=849.5617065429688\n",
      "The Parameters are w=tensor([12.2760], requires_grad=True), b-tensor([1.6436], requires_grad=True), and los=637.2017211914062\n",
      "The Parameters are w=tensor([12.4889], requires_grad=True), b-tensor([1.6617], requires_grad=True), and los=547.8172607421875\n",
      "The Parameters are w=tensor([12.6269], requires_grad=True), b-tensor([1.6747], requires_grad=True), and los=510.1905212402344\n",
      "The Parameters are w=tensor([12.7163], requires_grad=True), b-tensor([1.6843], requires_grad=True), and los=494.3473205566406\n",
      "The Parameters are w=tensor([12.7743], requires_grad=True), b-tensor([1.6917], requires_grad=True), and los=487.6724548339844\n",
      "The Parameters are w=tensor([12.8118], requires_grad=True), b-tensor([1.6978], requires_grad=True), and los=484.85595703125\n",
      "The Parameters are w=tensor([12.8360], requires_grad=True), b-tensor([1.7029], requires_grad=True), and los=483.66375732421875\n",
      "The Parameters are w=tensor([12.8517], requires_grad=True), b-tensor([1.7074], requires_grad=True), and los=483.15545654296875\n",
      "The Parameters are w=tensor([12.8618], requires_grad=True), b-tensor([1.7116], requires_grad=True), and los=482.9341735839844\n",
      "The Parameters are w=tensor([12.8682], requires_grad=True), b-tensor([1.7154], requires_grad=True), and los=482.83447265625\n",
      "The Parameters are w=tensor([12.8723], requires_grad=True), b-tensor([1.7192], requires_grad=True), and los=482.78570556640625\n",
      "The Parameters are w=tensor([12.8749], requires_grad=True), b-tensor([1.7228], requires_grad=True), and los=482.75823974609375\n",
      "The Parameters are w=tensor([12.8765], requires_grad=True), b-tensor([1.7264], requires_grad=True), and los=482.7398376464844\n",
      "The Parameters are w=tensor([12.8774], requires_grad=True), b-tensor([1.7299], requires_grad=True), and los=482.7251892089844\n",
      "The Parameters are w=tensor([12.8780], requires_grad=True), b-tensor([1.7334], requires_grad=True), and los=482.7123107910156\n",
      "The Parameters are w=tensor([12.8782], requires_grad=True), b-tensor([1.7368], requires_grad=True), and los=482.7000427246094\n",
      "The Parameters are w=tensor([12.8783], requires_grad=True), b-tensor([1.7403], requires_grad=True), and los=482.68804931640625\n",
      "The Parameters are w=tensor([12.8783], requires_grad=True), b-tensor([1.7437], requires_grad=True), and los=482.67596435546875\n",
      "The Parameters are w=tensor([12.8782], requires_grad=True), b-tensor([1.7471], requires_grad=True), and los=482.6640625\n",
      "The Parameters are w=tensor([12.8780], requires_grad=True), b-tensor([1.7506], requires_grad=True), and los=482.65216064453125\n",
      "The Parameters are w=tensor([12.8779], requires_grad=True), b-tensor([1.7540], requires_grad=True), and los=482.64080810546875\n",
      "The Parameters are w=tensor([12.8777], requires_grad=True), b-tensor([1.7574], requires_grad=True), and los=482.62884521484375\n",
      "The Parameters are w=tensor([12.8775], requires_grad=True), b-tensor([1.7608], requires_grad=True), and los=482.6173400878906\n",
      "The Parameters are w=tensor([12.8772], requires_grad=True), b-tensor([1.7643], requires_grad=True), and los=482.60552978515625\n",
      "The Parameters are w=tensor([12.8770], requires_grad=True), b-tensor([1.7677], requires_grad=True), and los=482.59375\n",
      "The Parameters are w=tensor([12.8768], requires_grad=True), b-tensor([1.7711], requires_grad=True), and los=482.5818786621094\n",
      "The Parameters are w=tensor([12.8766], requires_grad=True), b-tensor([1.7745], requires_grad=True), and los=482.57025146484375\n",
      "The Parameters are w=tensor([12.8763], requires_grad=True), b-tensor([1.7779], requires_grad=True), and los=482.5584411621094\n",
      "The Parameters are w=tensor([12.8761], requires_grad=True), b-tensor([1.7813], requires_grad=True), and los=482.5469665527344\n",
      "The Parameters are w=tensor([12.8759], requires_grad=True), b-tensor([1.7847], requires_grad=True), and los=482.5352478027344\n",
      "The Parameters are w=tensor([12.8756], requires_grad=True), b-tensor([1.7882], requires_grad=True), and los=482.5235900878906\n",
      "The Parameters are w=tensor([12.8754], requires_grad=True), b-tensor([1.7916], requires_grad=True), and los=482.51190185546875\n",
      "The Parameters are w=tensor([12.8752], requires_grad=True), b-tensor([1.7950], requires_grad=True), and los=482.5001525878906\n",
      "The Parameters are w=tensor([12.8749], requires_grad=True), b-tensor([1.7984], requires_grad=True), and los=482.4883728027344\n",
      "The Parameters are w=tensor([12.8747], requires_grad=True), b-tensor([1.8018], requires_grad=True), and los=482.4767150878906\n",
      "The Parameters are w=tensor([12.8745], requires_grad=True), b-tensor([1.8052], requires_grad=True), and los=482.4649353027344\n",
      "The Parameters are w=tensor([12.8742], requires_grad=True), b-tensor([1.8086], requires_grad=True), and los=482.453125\n",
      "The Parameters are w=tensor([12.8740], requires_grad=True), b-tensor([1.8120], requires_grad=True), and los=482.4417419433594\n",
      "The Parameters are w=tensor([12.8738], requires_grad=True), b-tensor([1.8154], requires_grad=True), and los=482.42987060546875\n",
      "The Parameters are w=tensor([12.8735], requires_grad=True), b-tensor([1.8188], requires_grad=True), and los=482.418701171875\n",
      "The Parameters are w=tensor([12.8733], requires_grad=True), b-tensor([1.8222], requires_grad=True), and los=482.40704345703125\n",
      "The Parameters are w=tensor([12.8731], requires_grad=True), b-tensor([1.8256], requires_grad=True), and los=482.39532470703125\n",
      "The Parameters are w=tensor([12.8728], requires_grad=True), b-tensor([1.8290], requires_grad=True), and los=482.3839416503906\n",
      "The Parameters are w=tensor([12.8726], requires_grad=True), b-tensor([1.8324], requires_grad=True), and los=482.372314453125\n",
      "The Parameters are w=tensor([12.8724], requires_grad=True), b-tensor([1.8358], requires_grad=True), and los=482.360595703125\n",
      "The Parameters are w=tensor([12.8721], requires_grad=True), b-tensor([1.8392], requires_grad=True), and los=482.3490295410156\n",
      "The Parameters are w=tensor([12.8719], requires_grad=True), b-tensor([1.8426], requires_grad=True), and los=482.33746337890625\n",
      "The Parameters are w=tensor([12.8717], requires_grad=True), b-tensor([1.8459], requires_grad=True), and los=482.32611083984375\n",
      "The Parameters are w=tensor([12.8714], requires_grad=True), b-tensor([1.8493], requires_grad=True), and los=482.31463623046875\n",
      "The Parameters are w=tensor([12.8712], requires_grad=True), b-tensor([1.8527], requires_grad=True), and los=482.3028259277344\n",
      "The Parameters are w=tensor([12.8710], requires_grad=True), b-tensor([1.8561], requires_grad=True), and los=482.2914123535156\n",
      "The Parameters are w=tensor([12.8707], requires_grad=True), b-tensor([1.8595], requires_grad=True), and los=482.2799377441406\n",
      "The Parameters are w=tensor([12.8705], requires_grad=True), b-tensor([1.8629], requires_grad=True), and los=482.2685546875\n",
      "The Parameters are w=tensor([12.8703], requires_grad=True), b-tensor([1.8663], requires_grad=True), and los=482.25689697265625\n",
      "The Parameters are w=tensor([12.8700], requires_grad=True), b-tensor([1.8696], requires_grad=True), and los=482.2450256347656\n",
      "The Parameters are w=tensor([12.8698], requires_grad=True), b-tensor([1.8730], requires_grad=True), and los=482.23394775390625\n",
      "The Parameters are w=tensor([12.8696], requires_grad=True), b-tensor([1.8764], requires_grad=True), and los=482.2223205566406\n",
      "The Parameters are w=tensor([12.8693], requires_grad=True), b-tensor([1.8798], requires_grad=True), and los=482.2110900878906\n",
      "The Parameters are w=tensor([12.8691], requires_grad=True), b-tensor([1.8831], requires_grad=True), and los=482.19952392578125\n",
      "The Parameters are w=tensor([12.8689], requires_grad=True), b-tensor([1.8865], requires_grad=True), and los=482.18804931640625\n",
      "The Parameters are w=tensor([12.8686], requires_grad=True), b-tensor([1.8899], requires_grad=True), and los=482.1766662597656\n",
      "The Parameters are w=tensor([12.8684], requires_grad=True), b-tensor([1.8933], requires_grad=True), and los=482.16510009765625\n",
      "The Parameters are w=tensor([12.8682], requires_grad=True), b-tensor([1.8966], requires_grad=True), and los=482.1536560058594\n",
      "The Parameters are w=tensor([12.8679], requires_grad=True), b-tensor([1.9000], requires_grad=True), and los=482.1421813964844\n",
      "The Parameters are w=tensor([12.8677], requires_grad=True), b-tensor([1.9034], requires_grad=True), and los=482.1307678222656\n",
      "The Parameters are w=tensor([12.8675], requires_grad=True), b-tensor([1.9067], requires_grad=True), and los=482.1195373535156\n",
      "The Parameters are w=tensor([12.8672], requires_grad=True), b-tensor([1.9101], requires_grad=True), and los=482.1080017089844\n",
      "The Parameters are w=tensor([12.8670], requires_grad=True), b-tensor([1.9135], requires_grad=True), and los=482.09686279296875\n",
      "The Parameters are w=tensor([12.8668], requires_grad=True), b-tensor([1.9168], requires_grad=True), and los=482.0853576660156\n",
      "The Parameters are w=tensor([12.8666], requires_grad=True), b-tensor([1.9202], requires_grad=True), and los=482.07391357421875\n",
      "The Parameters are w=tensor([12.8663], requires_grad=True), b-tensor([1.9236], requires_grad=True), and los=482.06219482421875\n",
      "The Parameters are w=tensor([12.8661], requires_grad=True), b-tensor([1.9269], requires_grad=True), and los=482.0511779785156\n",
      "The Parameters are w=tensor([12.8659], requires_grad=True), b-tensor([1.9303], requires_grad=True), and los=482.03985595703125\n",
      "The Parameters are w=tensor([12.8656], requires_grad=True), b-tensor([1.9337], requires_grad=True), and los=482.0286560058594\n",
      "The Parameters are w=tensor([12.8654], requires_grad=True), b-tensor([1.9370], requires_grad=True), and los=482.017333984375\n",
      "The Parameters are w=tensor([12.8652], requires_grad=True), b-tensor([1.9404], requires_grad=True), and los=482.00567626953125\n",
      "The Parameters are w=tensor([12.8649], requires_grad=True), b-tensor([1.9437], requires_grad=True), and los=481.9945373535156\n",
      "The Parameters are w=tensor([12.8647], requires_grad=True), b-tensor([1.9471], requires_grad=True), and los=481.9833984375\n",
      "The Parameters are w=tensor([12.8645], requires_grad=True), b-tensor([1.9504], requires_grad=True), and los=481.97174072265625\n",
      "The Parameters are w=tensor([12.8642], requires_grad=True), b-tensor([1.9538], requires_grad=True), and los=481.9606018066406\n",
      "The Parameters are w=tensor([12.8640], requires_grad=True), b-tensor([1.9571], requires_grad=True), and los=481.94952392578125\n",
      "The Parameters are w=tensor([12.8638], requires_grad=True), b-tensor([1.9605], requires_grad=True), and los=481.9378356933594\n",
      "The Parameters are w=tensor([12.8636], requires_grad=True), b-tensor([1.9638], requires_grad=True), and los=481.92694091796875\n",
      "The Parameters are w=tensor([12.8633], requires_grad=True), b-tensor([1.9672], requires_grad=True), and los=481.91546630859375\n",
      "The Parameters are w=tensor([12.8631], requires_grad=True), b-tensor([1.9705], requires_grad=True), and los=481.90435791015625\n",
      "The Parameters are w=tensor([12.8629], requires_grad=True), b-tensor([1.9739], requires_grad=True), and los=481.89312744140625\n",
      "The Parameters are w=tensor([12.8626], requires_grad=True), b-tensor([1.9772], requires_grad=True), and los=481.8817443847656\n",
      "The Parameters are w=tensor([12.8624], requires_grad=True), b-tensor([1.9806], requires_grad=True), and los=481.8705139160156\n",
      "The Parameters are w=tensor([12.8622], requires_grad=True), b-tensor([1.9839], requires_grad=True), and los=481.85931396484375\n",
      "The Parameters are w=tensor([12.8619], requires_grad=True), b-tensor([1.9872], requires_grad=True), and los=481.847900390625\n",
      "The Parameters are w=tensor([12.8617], requires_grad=True), b-tensor([1.9906], requires_grad=True), and los=481.83721923828125\n",
      "The Parameters are w=tensor([12.8615], requires_grad=True), b-tensor([1.9939], requires_grad=True), and los=481.825927734375\n",
      "The Parameters are w=tensor([12.8613], requires_grad=True), b-tensor([1.9972], requires_grad=True), and los=481.8143615722656\n",
      "The Parameters are w=tensor([12.8610], requires_grad=True), b-tensor([2.0006], requires_grad=True), and los=481.80328369140625\n"
     ]
    }
   ],
   "source": [
    "def criterion(yj, y_p):\n",
    "        return (yj- y_p)**2\n",
    "model =RegressionModel()\n",
    "loss_list=[]\n",
    "for epochs in range(100):\n",
    "        loss=0.0\n",
    "        for j in range(len(x)):\n",
    "                y_p=model.forward(x[j])\n",
    "                loss+=criterion(y[j],y_p)\n",
    "        loss=loss/len(x)\n",
    "        loss_list.append(loss.item())\n",
    "        loss.backward()\n",
    "        with torch.no_grad():\n",
    "                model.update()\n",
    "        model.reset_grad()\n",
    "        print(\"The Parameters are w={}, b-{}, and los={}\".format(model.w,model.b, loss.item()))"
   ]
  },
  {
   "cell_type": "code",
   "execution_count": 10,
   "metadata": {},
   "outputs": [
    {
     "data": {
      "image/png": "[encoded data removed]",
      "text/plain": [
       "<Figure size 640x480 with 1 Axes>"
      ]
     },
     "metadata": {},
     "output_type": "display_data"
    }
   ],
   "source": [
    "plt.plot(loss_list)\n",
    "plt.show()"
   ]
  },
  {
   "cell_type": "code",
   "execution_count": null,
   "metadata": {},
   "outputs": [],
   "source": []
  }
 ],
 "metadata": {
  "kernelspec": {
   "display_name": "myvenv",
   "language": "python",
   "name": "python3"
  },
  "language_info": {
   "codemirror_mode": {
    "name": "ipython",
    "version": 3
   },
   "file_extension": ".py",
   "mimetype": "text/x-python",
   "name": "python",
   "nbconvert_exporter": "python",
   "pygments_lexer": "ipython3",
   "version": "3.12.3"
  }
 },
 "nbformat": 4,
 "nbformat_minor": 2
}
