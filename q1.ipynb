{
 "cells": [
  {
   "cell_type": "code",
   "execution_count": 21,
   "metadata": {},
   "outputs": [],
   "source": [
    "import torch\n",
    "from matplotlib import pyplot as plt"
   ]
  },
  {
   "cell_type": "code",
   "execution_count": 22,
   "metadata": {},
   "outputs": [],
   "source": [
    "x=torch.tensor([12.4, 14.3, 14.5, 14.9, 16.1, 16.9, 16.5, 15.4, 17.0, 17.9, 18.8, 20.3, 22.4,\n",
    "19.4, 15.5, 16.7, 17.3, 18.4, 19.2, 17.4, 19.5, 19.7, 21.2])\n",
    "\n",
    "y=torch.tensor([11.2, 12.5, 12.7, 13.1, 14.1, 14.8, 14.4, 13.4, 14.9, 15.6, 16.4, 17.7, 19.6,\n",
    "16.9, 14.0, 14.6, 15.1, 16.1, 16.8, 15.2, 17.0, 17.2, 18.6])"
   ]
  },
  {
   "cell_type": "code",
   "execution_count": 23,
   "metadata": {},
   "outputs": [
    {
     "name": "stdout",
     "output_type": "stream",
     "text": [
      "tensor([0.1705], requires_grad=True)\n",
      "tensor([0.7090], requires_grad=True)\n"
     ]
    }
   ],
   "source": [
    "learning_rate=torch.tensor(0.001)\n",
    "loss_list=[]\n",
    "b=torch.rand([1], requires_grad=True)\n",
    "w=torch.rand([1],requires_grad=True)\n",
    "print(b)\n",
    "print(w)"
   ]
  },
  {
   "cell_type": "code",
   "execution_count": 24,
   "metadata": {},
   "outputs": [
    {
     "name": "stdout",
     "output_type": "stream",
     "text": [
      "The Parameters are w=tensor([0.8065], requires_grad=True), b-tensor([0.1760], requires_grad=True), and los=7.666399955749512\n",
      "The Parameters are w=tensor([0.8433], requires_grad=True), b-tensor([0.1781], requires_grad=True), and los=1.0997211933135986\n",
      "The Parameters are w=tensor([0.8571], requires_grad=True), b-tensor([0.1789], requires_grad=True), and los=0.1672913134098053\n",
      "The Parameters are w=tensor([0.8623], requires_grad=True), b-tensor([0.1792], requires_grad=True), and los=0.034892238676548004\n",
      "The Parameters are w=tensor([0.8643], requires_grad=True), b-tensor([0.1793], requires_grad=True), and los=0.01609221287071705\n",
      "The Parameters are w=tensor([0.8650], requires_grad=True), b-tensor([0.1794], requires_grad=True), and los=0.013422670774161816\n",
      "The Parameters are w=tensor([0.8653], requires_grad=True), b-tensor([0.1794], requires_grad=True), and los=0.013043503277003765\n",
      "The Parameters are w=tensor([0.8654], requires_grad=True), b-tensor([0.1794], requires_grad=True), and los=0.012989609502255917\n",
      "The Parameters are w=tensor([0.8655], requires_grad=True), b-tensor([0.1794], requires_grad=True), and los=0.012981911189854145\n",
      "The Parameters are w=tensor([0.8655], requires_grad=True), b-tensor([0.1794], requires_grad=True), and los=0.012980693951249123\n",
      "The Parameters are w=tensor([0.8655], requires_grad=True), b-tensor([0.1794], requires_grad=True), and los=0.012980462051928043\n",
      "The Parameters are w=tensor([0.8655], requires_grad=True), b-tensor([0.1794], requires_grad=True), and los=0.012980311177670956\n",
      "The Parameters are w=tensor([0.8655], requires_grad=True), b-tensor([0.1794], requires_grad=True), and los=0.012980252504348755\n",
      "The Parameters are w=tensor([0.8655], requires_grad=True), b-tensor([0.1795], requires_grad=True), and los=0.012980169616639614\n",
      "The Parameters are w=tensor([0.8655], requires_grad=True), b-tensor([0.1795], requires_grad=True), and los=0.012980068102478981\n",
      "The Parameters are w=tensor([0.8655], requires_grad=True), b-tensor([0.1795], requires_grad=True), and los=0.012980007566511631\n",
      "The Parameters are w=tensor([0.8655], requires_grad=True), b-tensor([0.1795], requires_grad=True), and los=0.012979930266737938\n",
      "The Parameters are w=tensor([0.8655], requires_grad=True), b-tensor([0.1795], requires_grad=True), and los=0.012979871593415737\n",
      "The Parameters are w=tensor([0.8655], requires_grad=True), b-tensor([0.1795], requires_grad=True), and los=0.01297974493354559\n",
      "The Parameters are w=tensor([0.8655], requires_grad=True), b-tensor([0.1795], requires_grad=True), and los=0.0129796601831913\n",
      "The Parameters are w=tensor([0.8655], requires_grad=True), b-tensor([0.1795], requires_grad=True), and los=0.012979620136320591\n",
      "The Parameters are w=tensor([0.8655], requires_grad=True), b-tensor([0.1795], requires_grad=True), and los=0.012979480437934399\n",
      "The Parameters are w=tensor([0.8655], requires_grad=True), b-tensor([0.1795], requires_grad=True), and los=0.012979435734450817\n",
      "The Parameters are w=tensor([0.8655], requires_grad=True), b-tensor([0.1795], requires_grad=True), and los=0.012979337945580482\n",
      "The Parameters are w=tensor([0.8655], requires_grad=True), b-tensor([0.1796], requires_grad=True), and los=0.012979274615645409\n",
      "The Parameters are w=tensor([0.8655], requires_grad=True), b-tensor([0.1796], requires_grad=True), and los=0.012979159131646156\n",
      "The Parameters are w=tensor([0.8655], requires_grad=True), b-tensor([0.1796], requires_grad=True), and los=0.012979110702872276\n",
      "The Parameters are w=tensor([0.8655], requires_grad=True), b-tensor([0.1796], requires_grad=True), and los=0.012979034334421158\n",
      "The Parameters are w=tensor([0.8655], requires_grad=True), b-tensor([0.1796], requires_grad=True), and los=0.012978924438357353\n",
      "The Parameters are w=tensor([0.8655], requires_grad=True), b-tensor([0.1796], requires_grad=True), and los=0.012978829443454742\n",
      "The Parameters are w=tensor([0.8655], requires_grad=True), b-tensor([0.1796], requires_grad=True), and los=0.01297873817384243\n",
      "The Parameters are w=tensor([0.8655], requires_grad=True), b-tensor([0.1796], requires_grad=True), and los=0.01297867950052023\n",
      "The Parameters are w=tensor([0.8655], requires_grad=True), b-tensor([0.1796], requires_grad=True), and los=0.012978589162230492\n",
      "The Parameters are w=tensor([0.8655], requires_grad=True), b-tensor([0.1796], requires_grad=True), and los=0.012978514656424522\n",
      "The Parameters are w=tensor([0.8655], requires_grad=True), b-tensor([0.1796], requires_grad=True), and los=0.01297842152416706\n",
      "The Parameters are w=tensor([0.8655], requires_grad=True), b-tensor([0.1797], requires_grad=True), and los=0.012978357262909412\n",
      "The Parameters are w=tensor([0.8655], requires_grad=True), b-tensor([0.1797], requires_grad=True), and los=0.012978236190974712\n",
      "The Parameters are w=tensor([0.8655], requires_grad=True), b-tensor([0.1797], requires_grad=True), and los=0.012978149577975273\n",
      "The Parameters are w=tensor([0.8655], requires_grad=True), b-tensor([0.1797], requires_grad=True), and los=0.012978093698620796\n",
      "The Parameters are w=tensor([0.8655], requires_grad=True), b-tensor([0.1797], requires_grad=True), and los=0.012978014536201954\n",
      "The Parameters are w=tensor([0.8655], requires_grad=True), b-tensor([0.1797], requires_grad=True), and los=0.01297792885452509\n",
      "The Parameters are w=tensor([0.8655], requires_grad=True), b-tensor([0.1797], requires_grad=True), and los=0.01297781616449356\n",
      "The Parameters are w=tensor([0.8655], requires_grad=True), b-tensor([0.1797], requires_grad=True), and los=0.012977749109268188\n",
      "The Parameters are w=tensor([0.8655], requires_grad=True), b-tensor([0.1797], requires_grad=True), and los=0.012977685779333115\n",
      "The Parameters are w=tensor([0.8655], requires_grad=True), b-tensor([0.1797], requires_grad=True), and los=0.012977560982108116\n",
      "The Parameters are w=tensor([0.8655], requires_grad=True), b-tensor([0.1797], requires_grad=True), and los=0.012977520935237408\n",
      "The Parameters are w=tensor([0.8655], requires_grad=True), b-tensor([0.1798], requires_grad=True), and los=0.012977401725947857\n",
      "The Parameters are w=tensor([0.8655], requires_grad=True), b-tensor([0.1798], requires_grad=True), and los=0.012977358885109425\n",
      "The Parameters are w=tensor([0.8655], requires_grad=True), b-tensor([0.1798], requires_grad=True), and los=0.01297724898904562\n",
      "The Parameters are w=tensor([0.8655], requires_grad=True), b-tensor([0.1798], requires_grad=True), and los=0.012977196834981441\n",
      "The Parameters are w=tensor([0.8655], requires_grad=True), b-tensor([0.1798], requires_grad=True), and los=0.012977070175111294\n",
      "The Parameters are w=tensor([0.8655], requires_grad=True), b-tensor([0.1798], requires_grad=True), and los=0.012976986356079578\n",
      "The Parameters are w=tensor([0.8655], requires_grad=True), b-tensor([0.1798], requires_grad=True), and los=0.012976915575563908\n",
      "The Parameters are w=tensor([0.8655], requires_grad=True), b-tensor([0.1798], requires_grad=True), and los=0.012976841069757938\n",
      "The Parameters are w=tensor([0.8655], requires_grad=True), b-tensor([0.1798], requires_grad=True), and los=0.012976782396435738\n",
      "The Parameters are w=tensor([0.8655], requires_grad=True), b-tensor([0.1798], requires_grad=True), and los=0.0129766296595335\n",
      "The Parameters are w=tensor([0.8655], requires_grad=True), b-tensor([0.1798], requires_grad=True), and los=0.012976598925888538\n",
      "The Parameters are w=tensor([0.8655], requires_grad=True), b-tensor([0.1799], requires_grad=True), and los=0.01297651045024395\n",
      "The Parameters are w=tensor([0.8655], requires_grad=True), b-tensor([0.1799], requires_grad=True), and los=0.012976466678082943\n",
      "The Parameters are w=tensor([0.8655], requires_grad=True), b-tensor([0.1799], requires_grad=True), and los=0.012976342812180519\n",
      "The Parameters are w=tensor([0.8655], requires_grad=True), b-tensor([0.1799], requires_grad=True), and los=0.01297624222934246\n",
      "The Parameters are w=tensor([0.8655], requires_grad=True), b-tensor([0.1799], requires_grad=True), and los=0.012976172380149364\n",
      "The Parameters are w=tensor([0.8655], requires_grad=True), b-tensor([0.1799], requires_grad=True), and los=0.012976053170859814\n",
      "The Parameters are w=tensor([0.8655], requires_grad=True), b-tensor([0.1799], requires_grad=True), and los=0.012976010330021381\n",
      "The Parameters are w=tensor([0.8655], requires_grad=True), b-tensor([0.1799], requires_grad=True), and los=0.012975888326764107\n",
      "The Parameters are w=tensor([0.8655], requires_grad=True), b-tensor([0.1799], requires_grad=True), and los=0.012975841760635376\n",
      "The Parameters are w=tensor([0.8655], requires_grad=True), b-tensor([0.1799], requires_grad=True), and los=0.012975766323506832\n",
      "The Parameters are w=tensor([0.8655], requires_grad=True), b-tensor([0.1799], requires_grad=True), and los=0.012975702993571758\n",
      "The Parameters are w=tensor([0.8655], requires_grad=True), b-tensor([0.1800], requires_grad=True), and los=0.012975609861314297\n",
      "The Parameters are w=tensor([0.8655], requires_grad=True), b-tensor([0.1800], requires_grad=True), and los=0.01297551766037941\n",
      "The Parameters are w=tensor([0.8655], requires_grad=True), b-tensor([0.1800], requires_grad=True), and los=0.012975415214896202\n",
      "The Parameters are w=tensor([0.8655], requires_grad=True), b-tensor([0.1800], requires_grad=True), and los=0.012975328601896763\n",
      "The Parameters are w=tensor([0.8655], requires_grad=True), b-tensor([0.1800], requires_grad=True), and los=0.01297528762370348\n",
      "The Parameters are w=tensor([0.8655], requires_grad=True), b-tensor([0.1800], requires_grad=True), and los=0.012975144200026989\n",
      "The Parameters are w=tensor([0.8655], requires_grad=True), b-tensor([0.1800], requires_grad=True), and los=0.012975074350833893\n",
      "The Parameters are w=tensor([0.8655], requires_grad=True), b-tensor([0.1800], requires_grad=True), and los=0.012975008226931095\n",
      "The Parameters are w=tensor([0.8655], requires_grad=True), b-tensor([0.1800], requires_grad=True), and los=0.012974943965673447\n",
      "The Parameters are w=tensor([0.8655], requires_grad=True), b-tensor([0.1800], requires_grad=True), and los=0.012974805198609829\n",
      "The Parameters are w=tensor([0.8655], requires_grad=True), b-tensor([0.1800], requires_grad=True), and los=0.012974738143384457\n",
      "The Parameters are w=tensor([0.8655], requires_grad=True), b-tensor([0.1801], requires_grad=True), and los=0.01297468226402998\n",
      "The Parameters are w=tensor([0.8655], requires_grad=True), b-tensor([0.1801], requires_grad=True), and los=0.012974605895578861\n",
      "The Parameters are w=tensor([0.8655], requires_grad=True), b-tensor([0.1801], requires_grad=True), and los=0.0129745127633214\n",
      "The Parameters are w=tensor([0.8655], requires_grad=True), b-tensor([0.1801], requires_grad=True), and los=0.012974418699741364\n",
      "The Parameters are w=tensor([0.8655], requires_grad=True), b-tensor([0.1801], requires_grad=True), and los=0.012974347919225693\n",
      "The Parameters are w=tensor([0.8655], requires_grad=True), b-tensor([0.1801], requires_grad=True), and los=0.012974271550774574\n",
      "The Parameters are w=tensor([0.8655], requires_grad=True), b-tensor([0.1801], requires_grad=True), and los=0.01297417376190424\n",
      "The Parameters are w=tensor([0.8655], requires_grad=True), b-tensor([0.1801], requires_grad=True), and los=0.01297407690435648\n",
      "The Parameters are w=tensor([0.8655], requires_grad=True), b-tensor([0.1801], requires_grad=True), and los=0.012974007986485958\n",
      "The Parameters are w=tensor([0.8655], requires_grad=True), b-tensor([0.1801], requires_grad=True), and los=0.012973911128938198\n",
      "The Parameters are w=tensor([0.8655], requires_grad=True), b-tensor([0.1801], requires_grad=True), and los=0.012973841279745102\n",
      "The Parameters are w=tensor([0.8655], requires_grad=True), b-tensor([0.1802], requires_grad=True), and los=0.01297377236187458\n",
      "The Parameters are w=tensor([0.8655], requires_grad=True), b-tensor([0.1802], requires_grad=True), and los=0.012973668985068798\n",
      "The Parameters are w=tensor([0.8655], requires_grad=True), b-tensor([0.1802], requires_grad=True), and los=0.012973562814295292\n",
      "The Parameters are w=tensor([0.8654], requires_grad=True), b-tensor([0.1802], requires_grad=True), and los=0.012973492965102196\n",
      "The Parameters are w=tensor([0.8654], requires_grad=True), b-tensor([0.1802], requires_grad=True), and los=0.012973424978554249\n",
      "The Parameters are w=tensor([0.8654], requires_grad=True), b-tensor([0.1802], requires_grad=True), and los=0.012973334640264511\n",
      "The Parameters are w=tensor([0.8654], requires_grad=True), b-tensor([0.1802], requires_grad=True), and los=0.012973259203135967\n",
      "The Parameters are w=tensor([0.8654], requires_grad=True), b-tensor([0.1802], requires_grad=True), and los=0.012973177246749401\n",
      "The Parameters are w=tensor([0.8654], requires_grad=True), b-tensor([0.1802], requires_grad=True), and los=0.012973113916814327\n",
      "The Parameters are w=tensor([0.8654], requires_grad=True), b-tensor([0.1802], requires_grad=True), and los=0.012973014265298843\n"
     ]
    }
   ],
   "source": [
    "for epochs in range(100):\n",
    "    loss=0.0\n",
    "    for j in range(len(x)):\n",
    "        a=w*x[j]\n",
    "        y_p=a+b\n",
    "        loss+=(y_p-y[j])**2\n",
    "    loss=loss/len(x)\n",
    "    # print(loss.item())\n",
    "    loss_list.append(loss.item())\n",
    "    loss.backward()\n",
    "    with torch.no_grad():\n",
    "        w-=learning_rate*w.grad\n",
    "        b-=learning_rate*b.grad\n",
    "    w.grad.zero_()\n",
    "    b.grad.zero_()\n",
    "    print(\"The Parameters are w={}, b-{}, and los={}\".format(w,b, loss.item()))"
   ]
  },
  {
   "cell_type": "code",
   "execution_count": 26,
   "metadata": {},
   "outputs": [
    {
     "data": {
      "image/png": "[encoded data removed]",
      "text/plain": [
       "<Figure size 640x480 with 1 Axes>"
      ]
     },
     "metadata": {},
     "output_type": "display_data"
    }
   ],
   "source": [
    "plt.plot(loss_list)\n",
    "plt.show()\n"
   ]
  },
  {
   "cell_type": "code",
   "execution_count": null,
   "metadata": {},
   "outputs": [],
   "source": []
  }
 ],
 "metadata": {
  "kernelspec": {
   "display_name": "myvenv",
   "language": "python",
   "name": "python3"
  },
  "language_info": {
   "codemirror_mode": {
    "name": "ipython",
    "version": 3
   },
   "file_extension": ".py",
   "mimetype": "text/x-python",
   "name": "python",
   "nbconvert_exporter": "python",
   "pygments_lexer": "ipython3",
   "version": "3.12.3"
  }
 },
 "nbformat": 4,
 "nbformat_minor": 2
}
